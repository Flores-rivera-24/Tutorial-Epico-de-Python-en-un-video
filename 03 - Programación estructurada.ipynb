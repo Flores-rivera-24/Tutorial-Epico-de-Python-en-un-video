{
 "cells": [
  {
   "cell_type": "markdown",
   "metadata": {},
   "source": [
    "\n",
    "# Tutorial Épico de Python en 1 vídeo 😁"
   ]
  },
  {
   "cell_type": "markdown",
   "metadata": {},
   "source": [
    "## 3 - Programación estructurada\n",
    "\n",
    "* Expresiones\n",
    "* Condición if\n",
    "* Bucle while\n",
    "* Bucle for .. in\n",
    "* Funciones\n",
    "\n",
    "La programación estructurada es un paradigma de programación surgido en la década de los 60 que introduce tres estructuras de control: los bloques de código, las condiciones y los bucles. \n",
    "Para poder entender las estructuras de control es indispensable aprender antes a trabajar con las expresiones, así que empezaremos por ahí.\n",
    "\n",
    "### 3.1 - Expresiones\n",
    "Son aplicaciones (o funciones) que ocurren entre operadores y operandos, estando estos últimos en forma literal o variable, dando lugar a un resultado literal interpretable por el lenguaje."
   ]
  },
  {
   "cell_type": "code",
   "execution_count": 202,
   "metadata": {},
   "outputs": [
    {
     "data": {
      "text/plain": [
       "7"
      ]
     },
     "execution_count": 202,
     "metadata": {},
     "output_type": "execute_result"
    }
   ],
   "source": [
    "2 + 5"
   ]
  },
  {
   "cell_type": "code",
   "execution_count": 196,
   "metadata": {},
   "outputs": [],
   "source": [
    "numero1 = 10\n",
    "numero2 = 5\n",
    "resultado = numero1 + numero2  # El resultado de una expresión se puede asignar a una variable"
   ]
  },
  {
   "cell_type": "code",
   "execution_count": 193,
   "metadata": {},
   "outputs": [
    {
     "data": {
      "text/plain": [
       "15"
      ]
     },
     "execution_count": 193,
     "metadata": {},
     "output_type": "execute_result"
    }
   ],
   "source": [
    "resultado"
   ]
  },
  {
   "cell_type": "markdown",
   "metadata": {},
   "source": [
    "Hay varios tipos de expresiones, y lo que determina ese tipo es su operador:\n",
    "* **Operadores aritméticos**: +, -, *, /, %, **\n",
    "* **Operadores relacionales**: == (is), != (is not), >, <, >=, <=\n",
    "* **Operadores lógicos**: and, or, not, ^ (xor)"
   ]
  },
  {
   "cell_type": "code",
   "execution_count": 15,
   "metadata": {},
   "outputs": [
    {
     "name": "stdout",
     "output_type": "stream",
     "text": [
      "7\n"
     ]
    }
   ],
   "source": [
    "# Expresiones aritméticas, típicas de las matemáticas\n",
    "\n",
    "a = 5\n",
    "b = 2\n",
    "\n",
    "print(a + b)"
   ]
  },
  {
   "cell_type": "code",
   "execution_count": 2,
   "metadata": {},
   "outputs": [
    {
     "name": "stdout",
     "output_type": "stream",
     "text": [
      "5 + 2 = 7\n",
      "5 - 2 = 3\n",
      "5 * 2 = 10\n",
      "5 / 2 = 2.5\n",
      "5 % 2 = 1\n",
      "5 ** 2 = 25\n"
     ]
    }
   ],
   "source": [
    "print(f\"{a} + {b} = {a + b}\")      # Suma\n",
    "print(f\"{a} - {b} = {a - b}\")      # Resta\n",
    "print(f\"{a} * {b} = {a * b}\")      # Producto\n",
    "print(f\"{a} / {b} = {a / b}\")      # División\n",
    "print(f\"{a} % {b} = {a % b}\")      # Módulo\n",
    "print(f\"{a} ** {b} = {a ** b}\")    # Potencia"
   ]
  },
  {
   "cell_type": "code",
   "execution_count": 16,
   "metadata": {},
   "outputs": [
    {
     "name": "stdout",
     "output_type": "stream",
     "text": [
      "False\n"
     ]
    }
   ],
   "source": [
    "print(a == b)"
   ]
  },
  {
   "cell_type": "code",
   "execution_count": 5,
   "metadata": {},
   "outputs": [
    {
     "name": "stdout",
     "output_type": "stream",
     "text": [
      "5 == 2 = False\n",
      "5 != 2 = True\n",
      "5 > 2 = True\n",
      "5 < 2 = False\n",
      "5 >= 2 = True\n",
      "5 <= 2 = False\n"
     ]
    }
   ],
   "source": [
    "print(f\"{a} == {b} = {a == b}\")    # Igual que\n",
    "print(f\"{a} != {b} = {a != b}\")    # Distinto de\n",
    "print(f\"{a} > {b} = {a > b}\")      # Mayor que\n",
    "print(f\"{a} < {b} = {a < b}\")      # Menor que\n",
    "print(f\"{a} >= {b} = {a >= b}\")    # Mayor o igual que\n",
    "print(f\"{a} <= {b} = {a <= b}\")    # Menor o igual que"
   ]
  },
  {
   "cell_type": "markdown",
   "metadata": {},
   "source": [
    "Finalmente tenemos las expresiones lógicas, que encontramos al operar valores lógicos. No voy a entrar muy en detalle, sólo veremos las cuatro operaciones y su resultado tal como se devuelven en las tablas de la verdad."
   ]
  },
  {
   "cell_type": "code",
   "execution_count": 225,
   "metadata": {},
   "outputs": [
    {
     "name": "stdout",
     "output_type": "stream",
     "text": [
      "False\n",
      "False\n",
      "False\n",
      "True\n"
     ]
    }
   ],
   "source": [
    "# Tabla lógica del and\n",
    "\n",
    "print(False and False)    # falso y falso\n",
    "print(False and True)     # falso y verdadero\n",
    "print(True and False)     # verdadero y falso\n",
    "print(True and True)      # verdadero y verdadero"
   ]
  },
  {
   "cell_type": "code",
   "execution_count": 226,
   "metadata": {},
   "outputs": [
    {
     "name": "stdout",
     "output_type": "stream",
     "text": [
      "False\n",
      "True\n",
      "True\n",
      "True\n"
     ]
    }
   ],
   "source": [
    "# Tabla de la verdad del or\n",
    "\n",
    "print(False or False)    # falso o falso\n",
    "print(False or True)     # falso o verdadero\n",
    "print(True or False)     # verdadero o falso\n",
    "print(True or True)      # verdadero o verdadero"
   ]
  },
  {
   "cell_type": "code",
   "execution_count": 227,
   "metadata": {},
   "outputs": [
    {
     "name": "stdout",
     "output_type": "stream",
     "text": [
      "True\n",
      "False\n"
     ]
    }
   ],
   "source": [
    "# Tabla de la verdad del not\n",
    "\n",
    "print(not False)    # no falso\n",
    "print(not True)     # no verdeadero"
   ]
  },
  {
   "cell_type": "code",
   "execution_count": 230,
   "metadata": {},
   "outputs": [
    {
     "name": "stdout",
     "output_type": "stream",
     "text": [
      "False\n",
      "True\n",
      "True\n",
      "False\n"
     ]
    }
   ],
   "source": [
    "# Tabla de la verdad del xor\n",
    "\n",
    "print(False ^ False)    # falso o exclusivo falso\n",
    "print(False ^ True)     # falso o exclusivo verdadero\n",
    "print(True ^ False)     # verdadero o exclusivo falso\n",
    "print(True ^ True)      # verdadero o exclusivo verdadero"
   ]
  },
  {
   "cell_type": "markdown",
   "metadata": {},
   "source": [
    "### 3.2 - Condición if\n",
    "Es una sentencia de control condicional que permite ejecutar un bloque de código o no dependiendo del resultado de una expresión lógica."
   ]
  },
  {
   "cell_type": "code",
   "execution_count": 233,
   "metadata": {},
   "outputs": [
    {
     "name": "stdout",
     "output_type": "stream",
     "text": [
      "Hola mundo\n"
     ]
    }
   ],
   "source": [
    "if True:\n",
    "    print(\"Hola mundo\")  # Aparece el concepto de bloque"
   ]
  },
  {
   "cell_type": "code",
   "execution_count": 236,
   "metadata": {},
   "outputs": [],
   "source": [
    "if False:\n",
    "    print(\"Hola mundo\")  # El bloque if no se ejecuta si se le pasa una expresión Falsa"
   ]
  },
  {
   "cell_type": "code",
   "execution_count": 237,
   "metadata": {},
   "outputs": [
    {
     "name": "stdout",
     "output_type": "stream",
     "text": [
      "Hola mundo\n"
     ]
    }
   ],
   "source": [
    "if not False:  # Recordad que not False es True\n",
    "    print(\"Hola mundo\")"
   ]
  },
  {
   "cell_type": "code",
   "execution_count": 241,
   "metadata": {},
   "outputs": [
    {
     "name": "stdout",
     "output_type": "stream",
     "text": [
      "10 es mayor que 5\n"
     ]
    }
   ],
   "source": [
    "numero1 = 10\n",
    "numero2 = 5\n",
    "\n",
    "if numero1 > numero2:\n",
    "    print(f\"{numero1} es mayor que {numero2}\")\n",
    "\n",
    "if numero1 < numero2:\n",
    "    print(f\"{numero1} es menor que {numero2}\")\n",
    "    \n",
    "if numero1 == numero2:\n",
    "    print(f\"{numero1} es igual que {numero2}\")"
   ]
  },
  {
   "cell_type": "code",
   "execution_count": 243,
   "metadata": {},
   "outputs": [
    {
     "name": "stdout",
     "output_type": "stream",
     "text": [
      "10 es mayor que 5\n"
     ]
    }
   ],
   "source": [
    "# El ejemplo anterior ejecuta todas las líneas, no es optimo, para ello existe podemos encadenas elif al bloque if\n",
    "\n",
    "if numero1 > numero2:\n",
    "    print(f\"{numero1} es mayor que {numero2}\")\n",
    "elif numero1 < numero2:\n",
    "    print(f\"{numero1} es menor que {numero2}\")\n",
    "elif numero1 == numero2:\n",
    "    print(f\"{numero1} es igual que {numero2}\")\n",
    "    \n",
    "# En el momento que encuentra una concordancia se sale de la cadena de if-elif"
   ]
  },
  {
   "cell_type": "code",
   "execution_count": 247,
   "metadata": {},
   "outputs": [
    {
     "name": "stdout",
     "output_type": "stream",
     "text": [
      "20 no encontrado en la lista\n"
     ]
    }
   ],
   "source": [
    "# Si sólo tenemos una comprobación o su caso contrario podemos encadenar un bloque else\n",
    "numeros = [10, 30, 50]\n",
    "\n",
    "numero = 20\n",
    "\n",
    "if numero in numeros:\n",
    "    print(numero, \"encontrado en la lista\")\n",
    "else:\n",
    "    print(numero, \"no encontrado en la lista\")"
   ]
  },
  {
   "cell_type": "code",
   "execution_count": 249,
   "metadata": {},
   "outputs": [
    {
     "name": "stdout",
     "output_type": "stream",
     "text": [
      "10 es par\n"
     ]
    }
   ],
   "source": [
    "numero = 10\n",
    "\n",
    "if numero % 2 == 0:  \n",
    "    print(numero, \"es par\")  # si al dividir un número entre 2, su módulo es 0 significa que es par\n",
    "else:\n",
    "    print(numero, \"es impar\")  # si no significa que es impar"
   ]
  },
  {
   "cell_type": "code",
   "execution_count": 254,
   "metadata": {},
   "outputs": [
    {
     "name": "stdout",
     "output_type": "stream",
     "text": [
      "7 es impar\n"
     ]
    }
   ],
   "source": [
    "# Algo muy útil del if else es la asignación condicionada en una línea a dos valores\n",
    "\n",
    "numero = 7\n",
    "es_par = True if numero % 2 == 0 else False  # es_par será True si la operación numero % 2 es 0, sino será False\n",
    "\n",
    "if es_par:\n",
    "    print(numero, \"es par\")\n",
    "else:\n",
    "    print(numero, \"es impar\")"
   ]
  },
  {
   "cell_type": "markdown",
   "metadata": {},
   "source": [
    "### 3.3 - Bucle while\n",
    "Es una sentencia de control iterativo, es decir, permite repetir un bloque de código. Concretamente permite repetirlo mientras una expresión lógica sea verdadera. Se traduciría como: **Mientras .verdadero. hacer algo** "
   ]
  },
  {
   "cell_type": "markdown",
   "metadata": {},
   "source": [
    "Nota: Al utilizar bucles en la terminal, muchas veces el intérprete quedará colgado, hay que reiniciarlo manualmente"
   ]
  },
  {
   "cell_type": "code",
   "execution_count": null,
   "metadata": {},
   "outputs": [
    {
     "name": "stdout",
     "output_type": "stream",
     "text": [
      "Escribe tu nombre: Hector\n",
      "Hola Hector\n",
      "Escribe tu nombre: Hector\n",
      "Hola Hector\n"
     ]
    }
   ],
   "source": [
    "while True: # Esto es un bucle infinito\n",
    "    nombre = input(\"Escribe tu nombre: \")  # Cada vez que se entra al bucle se llama iteración\n",
    "    print(\"Hola\", nombre)  "
   ]
  },
  {
   "cell_type": "code",
   "execution_count": 3,
   "metadata": {},
   "outputs": [
    {
     "name": "stdout",
     "output_type": "stream",
     "text": [
      "Escribe tu nombre o SALIR para romper el bucle: SALIR\n"
     ]
    }
   ],
   "source": [
    "while True:\n",
    "    nombre = input(\"Escribe tu nombre o SALIR para romper el bucle: \")\n",
    "    if nombre == \"SALIR\":\n",
    "        break  # La instrucción break, en español romper, rompe la ejecución de un bucle\n",
    "    print(\"Hola\", nombre)"
   ]
  },
  {
   "cell_type": "code",
   "execution_count": 1,
   "metadata": {},
   "outputs": [
    {
     "name": "stdout",
     "output_type": "stream",
     "text": [
      "Que quieres hacer?\n",
      "[1] Saludo\n",
      "[2] Salir\n",
      "1\n",
      "Escribe tu nombre: Héctor\n",
      "Bienvenido al programa Héctor\n",
      "Que quieres hacer?\n",
      "[1] Saludo\n",
      "[2] Salir\n",
      "2\n",
      "Saliendo del programa... hasta pronto\n"
     ]
    }
   ],
   "source": [
    "while True: # Van muy bien para crear menús en scripts\n",
    "    opcion = input(\"Que quieres hacer?\\n[1] Saludo\\n[2] Salir\\n\")\n",
    "    if opcion == \"1\":\n",
    "        nombre = input(\"Escribe tu nombre: \")\n",
    "        print(\"Bienvenido al programa\", nombre)\n",
    "    if opcion == \"2\":\n",
    "        print(\"Saliendo del programa... hasta pronto\")\n",
    "        break"
   ]
  },
  {
   "cell_type": "code",
   "execution_count": 2,
   "metadata": {},
   "outputs": [
    {
     "name": "stdout",
     "output_type": "stream",
     "text": [
      "5\n",
      "4\n",
      "3\n",
      "2\n",
      "1\n"
     ]
    }
   ],
   "source": [
    "contador = 5\n",
    "\n",
    "while contador > 0:\n",
    "    print(contador)\n",
    "    contador = contador - 1"
   ]
  },
  {
   "cell_type": "code",
   "execution_count": 4,
   "metadata": {},
   "outputs": [
    {
     "name": "stdout",
     "output_type": "stream",
     "text": [
      "5\n",
      "4\n",
      "3\n",
      "2\n",
      "1\n"
     ]
    }
   ],
   "source": [
    "contador = 5\n",
    "\n",
    "while contador > 0:\n",
    "    print(contador)\n",
    "    #contador = contador - 1\n",
    "    contador -= 1  # Operador de decremento en asignación, lo soportan los operadores aritméticos"
   ]
  },
  {
   "cell_type": "code",
   "execution_count": 8,
   "metadata": {},
   "outputs": [
    {
     "name": "stdout",
     "output_type": "stream",
     "text": [
      "5\n",
      "4\n",
      "3\n",
      "2\n",
      "1\n",
      "¡Despegamos!\n"
     ]
    }
   ],
   "source": [
    "contador = 5\n",
    "\n",
    "while contador > 0:\n",
    "    print(contador)\n",
    "    #contador = contador - 1\n",
    "    contador -= 1  # Operador de decremento en asignación, lo soportan los operadores aritméticos\n",
    "else:  # Cuando se finaliza un while se puede enlazar un else para ejecutar una acción final\n",
    "    print(\"¡Despegamos!\")"
   ]
  },
  {
   "cell_type": "code",
   "execution_count": 7,
   "metadata": {},
   "outputs": [
    {
     "name": "stdout",
     "output_type": "stream",
     "text": [
      "5\n",
      "4\n",
      "3\n"
     ]
    }
   ],
   "source": [
    "contador = 5\n",
    "\n",
    "while contador > 0:\n",
    "    print(contador)\n",
    "    contador -= 1\n",
    "    if contador == 2:  # El else no se llamará si se rompe la ejecución del bucle en algún momento\n",
    "        break\n",
    "else:\n",
    "    print(\"¡Despegamos!\")"
   ]
  },
  {
   "cell_type": "markdown",
   "metadata": {},
   "source": [
    "### 3.4 - Bucle for .. in"
   ]
  },
  {
   "cell_type": "markdown",
   "metadata": {},
   "source": [
    "Es la otra sentencia de control iterativo, pero a diferencia del mientras, el for..in se ejecuta un número determinada de veces, concretamente una vez para cada elemento de una colección. Se traduciría como: **Para cada .elemento. en la . coleccion. hacer algo** "
   ]
  },
  {
   "cell_type": "code",
   "execution_count": 10,
   "metadata": {},
   "outputs": [
    {
     "name": "stdout",
     "output_type": "stream",
     "text": [
      "rojo\n",
      "verde\n",
      "azul\n",
      "negro\n"
     ]
    }
   ],
   "source": [
    "colores = ['rojo', 'verde', 'azul', 'negro']\n",
    "\n",
    "for elemento in colores:\n",
    "    print(elemento)  # Se itera de izquierda a derecha, el elemento es una variable que almacena cada elemento de la colección"
   ]
  },
  {
   "cell_type": "code",
   "execution_count": 11,
   "metadata": {},
   "outputs": [
    {
     "name": "stdout",
     "output_type": "stream",
     "text": [
      "rojo\n",
      "verde\n",
      "azul\n",
      "negro\n"
     ]
    }
   ],
   "source": [
    "for color in colores:\n",
    "    print(color)  # Lo más intuitivo es tener la colección en plural y el elemento en singular color -> colores"
   ]
  },
  {
   "cell_type": "code",
   "execution_count": 12,
   "metadata": {},
   "outputs": [
    {
     "name": "stdout",
     "output_type": "stream",
     "text": [
      "P\n",
      "y\n",
      "t\n",
      "h\n",
      "o\n",
      "n\n",
      " \n",
      "M\n",
      "o\n",
      "l\n",
      "a\n"
     ]
    }
   ],
   "source": [
    "for caracter in \"Python Mola\":\n",
    "    print(caracter)  # También se pueden recorrer los caracteres de una cadena"
   ]
  },
  {
   "cell_type": "code",
   "execution_count": 18,
   "metadata": {},
   "outputs": [
    {
     "name": "stdout",
     "output_type": "stream",
     "text": [
      "P*y*t*h*o*n* *M*o*l*a*"
     ]
    }
   ],
   "source": [
    "for caracter in \"Python Mola\":\n",
    "    print(caracter, end='*')  # end establece el carater final del print, que por defecto es \\n (newline)"
   ]
  },
  {
   "cell_type": "code",
   "execution_count": 19,
   "metadata": {},
   "outputs": [
    {
     "data": {
      "text/plain": [
       "range(0, 10)"
      ]
     },
     "execution_count": 19,
     "metadata": {},
     "output_type": "execute_result"
    }
   ],
   "source": [
    "range(10)  # relacionado con esto tenemos la función range, un generador de rangos de números sin almacenarlos en memoria"
   ]
  },
  {
   "cell_type": "code",
   "execution_count": 20,
   "metadata": {},
   "outputs": [
    {
     "data": {
      "text/plain": [
       "[0, 1, 2, 3, 4, 5, 6, 7, 8, 9]"
      ]
     },
     "execution_count": 20,
     "metadata": {},
     "output_type": "execute_result"
    }
   ],
   "source": [
    "list(range(10))  # para almacenar todo el rango en memoria hay que transformar el rango a lista"
   ]
  },
  {
   "cell_type": "code",
   "execution_count": 23,
   "metadata": {},
   "outputs": [
    {
     "name": "stdout",
     "output_type": "stream",
     "text": [
      "Repetición 1\n",
      "Repetición 2\n",
      "Repetición 3\n",
      "Repetición 4\n",
      "Repetición 5\n",
      "Repetición 6\n",
      "Repetición 7\n",
      "Repetición 8\n",
      "Repetición 9\n",
      "Repetición 10\n"
     ]
    }
   ],
   "source": [
    "for i in range(10):  # lo bueno es que podemos iterar un rango para repetir una acción un número determinado de veces\n",
    "    print(f\"Repetición {i+1}\")"
   ]
  },
  {
   "cell_type": "markdown",
   "metadata": {},
   "source": [
    "### 3.5 - Funciones\n",
    "Y por último vamos a hablar de las funciones, que no son más que bloques de código, pero identificados con un nombre. De manera que podemos ejecutar ese código cuando y dónde queramos sin necesidad de volver a escribirlo."
   ]
  },
  {
   "cell_type": "code",
   "execution_count": 31,
   "metadata": {},
   "outputs": [],
   "source": [
    "def saludar():  # una función es un bloque de código identificado con un nombre que podemos llamar tantas veces como queramos\n",
    "    print(\"¡Hola gente!\")"
   ]
  },
  {
   "cell_type": "code",
   "execution_count": 29,
   "metadata": {},
   "outputs": [
    {
     "name": "stdout",
     "output_type": "stream",
     "text": [
      "¡Hola gente!\n"
     ]
    }
   ],
   "source": [
    "saludar()"
   ]
  },
  {
   "cell_type": "code",
   "execution_count": 30,
   "metadata": {},
   "outputs": [
    {
     "name": "stdout",
     "output_type": "stream",
     "text": [
      "¡Hola gente!\n",
      "¡Hola gente!\n",
      "¡Hola gente!\n",
      "¡Hola gente!\n",
      "¡Hola gente!\n"
     ]
    }
   ],
   "source": [
    "for i in range(5):\n",
    "    saludar()"
   ]
  },
  {
   "cell_type": "code",
   "execution_count": 32,
   "metadata": {},
   "outputs": [],
   "source": [
    "def sumar(a, b):  # lo interesante es que podemos definir parámetros\n",
    "    print(f\"La suma de {a} y {b} es {a+b}\")"
   ]
  },
  {
   "cell_type": "code",
   "execution_count": 33,
   "metadata": {},
   "outputs": [
    {
     "name": "stdout",
     "output_type": "stream",
     "text": [
      "La suma de 100 y 50 es 150\n"
     ]
    }
   ],
   "source": [
    "sumar(100, 50)  # al llamar a la función estos parámetros almacenan los valores que se le envían en el orden enviado"
   ]
  },
  {
   "cell_type": "code",
   "execution_count": 34,
   "metadata": {},
   "outputs": [
    {
     "name": "stdout",
     "output_type": "stream",
     "text": [
      "La suma de -100 y 50 es -50\n"
     ]
    }
   ],
   "source": [
    "sumar(-100, 50)"
   ]
  },
  {
   "cell_type": "code",
   "execution_count": 35,
   "metadata": {},
   "outputs": [],
   "source": [
    "def sumar(a, b):\n",
    "    return a + b  # incluso es posible utilizar la sentencia return para devolver un valor literal"
   ]
  },
  {
   "cell_type": "code",
   "execution_count": 38,
   "metadata": {},
   "outputs": [
    {
     "data": {
      "text/plain": [
       "30"
      ]
     },
     "execution_count": 38,
     "metadata": {},
     "output_type": "execute_result"
    }
   ],
   "source": [
    "sumar(10, 20)  # El resultado actuará como un valor lieral"
   ]
  },
  {
   "cell_type": "code",
   "execution_count": 39,
   "metadata": {},
   "outputs": [],
   "source": [
    "r = sumar(10, 20)  # se puede asignar a una variable"
   ]
  },
  {
   "cell_type": "code",
   "execution_count": 40,
   "metadata": {},
   "outputs": [
    {
     "name": "stdout",
     "output_type": "stream",
     "text": [
      "30\n"
     ]
    }
   ],
   "source": [
    "print(r)"
   ]
  },
  {
   "cell_type": "code",
   "execution_count": 45,
   "metadata": {},
   "outputs": [],
   "source": [
    "funcion = sumar  # a todo esto las funciones se comportan como cualquier tipo de dato y se pueden asignar a una variable"
   ]
  },
  {
   "cell_type": "code",
   "execution_count": 46,
   "metadata": {},
   "outputs": [
    {
     "data": {
      "text/plain": [
       "60"
      ]
     },
     "execution_count": 46,
     "metadata": {},
     "output_type": "execute_result"
    }
   ],
   "source": [
    "funcion(10, 50)  # python es muy flexible"
   ]
  }
 ],
 "metadata": {
  "kernelspec": {
   "display_name": "Python 3",
   "language": "python",
   "name": "python3"
  },
  "language_info": {
   "codemirror_mode": {
    "name": "ipython",
    "version": 3
   },
   "file_extension": ".py",
   "mimetype": "text/x-python",
   "name": "python",
   "nbconvert_exporter": "python",
   "pygments_lexer": "ipython3",
   "version": "3.6.3"
  }
 },
 "nbformat": 4,
 "nbformat_minor": 2
}
