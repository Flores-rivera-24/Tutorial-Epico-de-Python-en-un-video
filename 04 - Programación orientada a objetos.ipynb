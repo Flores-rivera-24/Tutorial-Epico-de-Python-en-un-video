{
 "cells": [
  {
   "cell_type": "markdown",
   "metadata": {},
   "source": [
    "\n",
    "# Tutorial Épico de Python en 1 vídeo 😁"
   ]
  },
  {
   "cell_type": "markdown",
   "metadata": {},
   "source": [
    "## 4 - Programación orientada a objetos\n",
    "\n",
    "* Clases y objetos\n",
    "* Atributos y métodos\n",
    "* El método constructor\n",
    "* El método string\n",
    "* Métodos de las colecciones\n",
    "* Herencia de clases\n",
    "* Polimorfismo\n",
    "\n",
    "La programación orientada a objetos es un paradigma de programación surgido como alternativa a la programación estructurada. Se fundamenta en plasmar los elementos del mundo real en la programación a través de estructuras llamadas clases, y sus instancias, los objetos. \n",
    "\n",
    "Haciendo un paralelismo sería como hablar de moldes y galletas, ya que una clase es una plantilla o molde para fabricar objetos, que serían las galletas. \n",
    "\n",
    "El concepto amplía muchísimo las posibilidades, ya que las clases tienen la capacidad de incluir sus propias variables y funciones internas, conocidas como atributos y métodos respectivamente, a parte de implementar la herencia de clases, haciéndolas todavía más flexibles y escalables.\n",
    "\n",
    "### 4.1 - Clases y objetos"
   ]
  },
  {
   "cell_type": "code",
   "execution_count": 7,
   "metadata": {},
   "outputs": [],
   "source": [
    "class Galleta:  # la clase Galleta es un molde para crear galletas, como unas instucciones de cocina\n",
    "    pass"
   ]
  },
  {
   "cell_type": "code",
   "execution_count": 8,
   "metadata": {},
   "outputs": [],
   "source": [
    "galleta1 = Galleta()  # Llamando a la clase como una función, generamos un objeto galleta que sí existe en la memoria"
   ]
  },
  {
   "cell_type": "code",
   "execution_count": 9,
   "metadata": {},
   "outputs": [],
   "source": [
    "galleta2 = Galleta()  # Cada galleta que creamos es independiente de las demás"
   ]
  },
  {
   "cell_type": "code",
   "execution_count": 10,
   "metadata": {},
   "outputs": [],
   "source": [
    "galleta3 = Galleta()  # Los objetos también se conocen como instancias de la clase"
   ]
  },
  {
   "cell_type": "code",
   "execution_count": 11,
   "metadata": {},
   "outputs": [
    {
     "name": "stdout",
     "output_type": "stream",
     "text": [
      "<__main__.Galleta object at 0x00000258DB483518>\n"
     ]
    }
   ],
   "source": [
    "print(galleta1)  # Si mostramos un objeto galleta nos da la dirección de memoria donde se almacena"
   ]
  },
  {
   "cell_type": "code",
   "execution_count": 12,
   "metadata": {},
   "outputs": [
    {
     "name": "stdout",
     "output_type": "stream",
     "text": [
      "<__main__.Galleta object at 0x00000258DB483518>\n",
      "<__main__.Galleta object at 0x00000258DB483080>\n",
      "<__main__.Galleta object at 0x00000258DB4834A8>\n"
     ]
    }
   ],
   "source": [
    "print(galleta1)\n",
    "print(galleta2)  # Podemos observar que cada galleta se guarda en una dirección de memoria diferente, demostrando que son \n",
    "print(galleta3)  # independientes unas de otras"
   ]
  },
  {
   "cell_type": "code",
   "execution_count": 13,
   "metadata": {},
   "outputs": [
    {
     "name": "stdout",
     "output_type": "stream",
     "text": [
      "<class '__main__.Galleta'>\n"
     ]
    }
   ],
   "source": [
    "print(Galleta)  # En cambio la clase Galleta no tiene una referencia de memoria, es sólo una definición, una plantilla, un molde"
   ]
  },
  {
   "cell_type": "code",
   "execution_count": 14,
   "metadata": {},
   "outputs": [
    {
     "data": {
      "text/plain": [
       "'Galleta'"
      ]
     },
     "execution_count": 14,
     "metadata": {},
     "output_type": "execute_result"
    }
   ],
   "source": [
    "galleta1.__class__.__name__  # Se puede saber la clase de un objeto utilizando esta sintaxis tan extraña\n",
    "                             # class y name son un método y un atributo especial de los objetos, luego veremos algunos métodos especiales"
   ]
  },
  {
   "cell_type": "markdown",
   "metadata": {},
   "source": [
    "### 4.2 - Atributos y métodos\n"
   ]
  },
  {
   "cell_type": "code",
   "execution_count": 22,
   "metadata": {},
   "outputs": [],
   "source": [
    "galleta = Galleta()"
   ]
  },
  {
   "cell_type": "code",
   "execution_count": 25,
   "metadata": {},
   "outputs": [],
   "source": [
    "galleta.forma = \"Estrella\"  # Los objetos tienen atributos que podemos manejar con un punto y el nombre del atributo"
   ]
  },
  {
   "cell_type": "code",
   "execution_count": 24,
   "metadata": {},
   "outputs": [],
   "source": [
    "galleta.chocolate = False"
   ]
  },
  {
   "cell_type": "code",
   "execution_count": 26,
   "metadata": {},
   "outputs": [
    {
     "name": "stdout",
     "output_type": "stream",
     "text": [
      "Mi galleta no tiene chocolate\n"
     ]
    }
   ],
   "source": [
    "if galleta.chocolate:\n",
    "    print(\"Mi galleta tiene chocolate\")\n",
    "else:\n",
    "    print(\"Mi galleta no tiene chocolate\")"
   ]
  },
  {
   "cell_type": "code",
   "execution_count": 30,
   "metadata": {},
   "outputs": [],
   "source": [
    "class Galleta:  # Además de los atributos, se puede definir funciones internas para las clases, llamadas métodos\n",
    "    def metodo():  \n",
    "        print(\"Soy un método de la clase galleta\")"
   ]
  },
  {
   "cell_type": "code",
   "execution_count": 31,
   "metadata": {},
   "outputs": [],
   "source": [
    "galleta = Galleta()"
   ]
  },
  {
   "cell_type": "code",
   "execution_count": 35,
   "metadata": {},
   "outputs": [
    {
     "ename": "TypeError",
     "evalue": "metodo() takes 0 positional arguments but 1 was given",
     "output_type": "error",
     "traceback": [
      "\u001b[1;31m---------------------------------------------------------------------------\u001b[0m",
      "\u001b[1;31mTypeError\u001b[0m                                 Traceback (most recent call last)",
      "\u001b[1;32m<ipython-input-35-2ff43a848041>\u001b[0m in \u001b[0;36m<module>\u001b[1;34m()\u001b[0m\n\u001b[1;32m----> 1\u001b[1;33m \u001b[0mgalleta\u001b[0m\u001b[1;33m.\u001b[0m\u001b[0mmetodo\u001b[0m\u001b[1;33m(\u001b[0m\u001b[1;33m)\u001b[0m  \u001b[1;31m# se llaman con los paréntesis, sin embargo esto no funcionará a nivel de instancia\u001b[0m\u001b[1;33m\u001b[0m\u001b[0m\n\u001b[0m",
      "\u001b[1;31mTypeError\u001b[0m: metodo() takes 0 positional arguments but 1 was given"
     ]
    }
   ],
   "source": [
    "galleta.metodo()  # Se llaman con los paréntesis como cualquier función, sin embargo esto no funcionará"
   ]
  },
  {
   "cell_type": "code",
   "execution_count": 36,
   "metadata": {},
   "outputs": [
    {
     "name": "stdout",
     "output_type": "stream",
     "text": [
      "Soy un método de la clase galleta\n"
     ]
    }
   ],
   "source": [
    "Galleta.metodo()  # En cambio si lo ejecutamos desde la clase sí funcionará"
   ]
  },
  {
   "cell_type": "code",
   "execution_count": 51,
   "metadata": {},
   "outputs": [],
   "source": [
    "class Galleta:           # Para poder llamar un método desde una instancia tenemos que referirnos a la propia instancia en él\n",
    "    def metodo(self):    # eso se hace pasando como primer parámetro del método la palabra reservada self        \n",
    "        print(\"Soy un método de la clase galleta\")"
   ]
  },
  {
   "cell_type": "code",
   "execution_count": 38,
   "metadata": {},
   "outputs": [],
   "source": [
    "galleta = Galleta()"
   ]
  },
  {
   "cell_type": "code",
   "execution_count": 42,
   "metadata": {},
   "outputs": [
    {
     "name": "stdout",
     "output_type": "stream",
     "text": [
      "Soy un método de la clase galleta\n"
     ]
    }
   ],
   "source": [
    "galleta.metodo()  # self es un accesor interno de las clases que hace referencia a la propia instancia \n",
    "                  # es como si le dijeramos que el método aplica a la propia instancia y no a la clase"
   ]
  },
  {
   "cell_type": "code",
   "execution_count": 52,
   "metadata": {},
   "outputs": [],
   "source": [
    "class Galleta:\n",
    "    def metodo(self):  # ¿Qué valor tiene self ?\n",
    "        print(\"Este es el valor de self\", self)"
   ]
  },
  {
   "cell_type": "code",
   "execution_count": 53,
   "metadata": {},
   "outputs": [],
   "source": [
    "galleta = Galleta()"
   ]
  },
  {
   "cell_type": "code",
   "execution_count": 54,
   "metadata": {},
   "outputs": [
    {
     "name": "stdout",
     "output_type": "stream",
     "text": [
      "Este es el valor de self <__main__.Galleta object at 0x000002000BA2E160>\n"
     ]
    }
   ],
   "source": [
    "galleta.metodo()  # self es la referencia de la instancia en la memoria"
   ]
  },
  {
   "cell_type": "code",
   "execution_count": 55,
   "metadata": {},
   "outputs": [
    {
     "name": "stdout",
     "output_type": "stream",
     "text": [
      "<__main__.Galleta object at 0x000002000BA2E160>\n"
     ]
    }
   ],
   "source": [
    "print(galleta)  # La misma dirección que sale al mostrar la instancia con print"
   ]
  },
  {
   "cell_type": "code",
   "execution_count": 60,
   "metadata": {},
   "outputs": [],
   "source": [
    "class Galleta:  \n",
    "    def chocolatear(self):      \n",
    "        self.chocolate = True  # haciendo referencia a self.atributo podemos establecer un atributo de instancia desde un método"
   ]
  },
  {
   "cell_type": "code",
   "execution_count": 63,
   "metadata": {},
   "outputs": [
    {
     "name": "stdout",
     "output_type": "stream",
     "text": [
      "False\n"
     ]
    }
   ],
   "source": [
    "galleta = Galleta()\n",
    "galleta.chocolate = False\n",
    "print(galleta.chocolate)"
   ]
  },
  {
   "cell_type": "code",
   "execution_count": 67,
   "metadata": {},
   "outputs": [],
   "source": [
    "galleta.chocolatear()  # Al llamar el método chcolatear() sobreescribimos el valor del atributo chocolate a True"
   ]
  },
  {
   "cell_type": "code",
   "execution_count": 65,
   "metadata": {},
   "outputs": [
    {
     "name": "stdout",
     "output_type": "stream",
     "text": [
      "True\n"
     ]
    }
   ],
   "source": [
    "print(galleta.chocolate)"
   ]
  },
  {
   "cell_type": "markdown",
   "metadata": {},
   "source": [
    "En resumen, los atributos son las variables de las instancias, los métodos sus funciones y self el accesor de las clases para acceder a su propia instancia."
   ]
  },
  {
   "cell_type": "markdown",
   "metadata": {},
   "source": [
    "### 4.3 - El método constructor"
   ]
  },
  {
   "cell_type": "code",
   "execution_count": 70,
   "metadata": {},
   "outputs": [
    {
     "ename": "AttributeError",
     "evalue": "'Galleta' object has no attribute 'chocolate'",
     "output_type": "error",
     "traceback": [
      "\u001b[1;31m---------------------------------------------------------------------------\u001b[0m",
      "\u001b[1;31mAttributeError\u001b[0m                            Traceback (most recent call last)",
      "\u001b[1;32m<ipython-input-70-8cd1b410175f>\u001b[0m in \u001b[0;36m<module>\u001b[1;34m()\u001b[0m\n\u001b[0;32m      4\u001b[0m \u001b[1;33m\u001b[0m\u001b[0m\n\u001b[0;32m      5\u001b[0m \u001b[0mgalleta\u001b[0m \u001b[1;33m=\u001b[0m \u001b[0mGalleta\u001b[0m\u001b[1;33m(\u001b[0m\u001b[1;33m)\u001b[0m\u001b[1;33m\u001b[0m\u001b[0m\n\u001b[1;32m----> 6\u001b[1;33m \u001b[0mprint\u001b[0m\u001b[1;33m(\u001b[0m\u001b[0mgalleta\u001b[0m\u001b[1;33m.\u001b[0m\u001b[0mchocolate\u001b[0m\u001b[1;33m)\u001b[0m  \u001b[1;31m# el problema de nuestras galletas es que por defecto no tienen un atributo chocolate\u001b[0m\u001b[1;33m\u001b[0m\u001b[0m\n\u001b[0m",
      "\u001b[1;31mAttributeError\u001b[0m: 'Galleta' object has no attribute 'chocolate'"
     ]
    }
   ],
   "source": [
    "class Galleta:  \n",
    "    def chocolatear(self):      \n",
    "        self.chocolate = True\n",
    "        \n",
    "galleta = Galleta()\n",
    "print(galleta.chocolate)  # el problema de nuestras galletas es que por defecto no tienen un atributo chocolate"
   ]
  },
  {
   "cell_type": "code",
   "execution_count": 72,
   "metadata": {},
   "outputs": [
    {
     "name": "stdout",
     "output_type": "stream",
     "text": [
      "False\n"
     ]
    }
   ],
   "source": [
    "class Galleta:  \n",
    "    \n",
    "    def __init__(self):   # El método constructor __init__ es un método especial de las clases que se llama automáticamente\n",
    "        self.chocolate = False   # al crear una instancia de un objeto, podemos definir valores por defecto en los atributos\n",
    "                                             \n",
    "    def chocolatear(self):      \n",
    "        self.chocolate = True\n",
    "        \n",
    "galleta = Galleta()\n",
    "print(galleta.chocolate)  # todas las galletas por defecto no tienen chocolate"
   ]
  },
  {
   "cell_type": "code",
   "execution_count": 73,
   "metadata": {},
   "outputs": [
    {
     "name": "stdout",
     "output_type": "stream",
     "text": [
      "True\n"
     ]
    }
   ],
   "source": [
    "class Galleta:  \n",
    "    \n",
    "    def __init__(self, chocolate):  # al constructor se le pueden pasar parámetros como si fuera cualquier función\n",
    "        self.chocolate = chocolate\n",
    "                                             \n",
    "    def chocolatear(self):      \n",
    "        self.chocolate = True\n",
    "        \n",
    "galleta = Galleta(True)  # se envían en el momento de crear la instancia\n",
    "print(galleta.chocolate)"
   ]
  },
  {
   "cell_type": "code",
   "execution_count": 74,
   "metadata": {},
   "outputs": [
    {
     "name": "stdout",
     "output_type": "stream",
     "text": [
      "False\n"
     ]
    }
   ],
   "source": [
    "class Galleta:  \n",
    "    \n",
    "    def __init__(self, chocolate=False):  # si un parámetro se define con un valor por defecto\n",
    "        self.chocolate = chocolate\n",
    "                                             \n",
    "    def chocolatear(self):      \n",
    "        self.chocolate = True\n",
    "        \n",
    "galleta = Galleta()  # no hace falta enviarlo en la instanciación\n",
    "print(galleta.chocolate)"
   ]
  },
  {
   "cell_type": "code",
   "execution_count": 75,
   "metadata": {},
   "outputs": [
    {
     "name": "stdout",
     "output_type": "stream",
     "text": [
      "True\n"
     ]
    }
   ],
   "source": [
    "galleta = Galleta(chocolate=True)  # para darle un valor ahora haremos referencia a partir de su nombre\n",
    "print(galleta.chocolate)"
   ]
  },
  {
   "cell_type": "markdown",
   "metadata": {},
   "source": [
    "### 4.4 - El método string"
   ]
  },
  {
   "cell_type": "code",
   "execution_count": 78,
   "metadata": {},
   "outputs": [
    {
     "name": "stdout",
     "output_type": "stream",
     "text": [
      "Soy una galleta sin chocolate\n"
     ]
    }
   ],
   "source": [
    "class Galleta:  \n",
    "    \n",
    "    def __init__(self, chocolate=False):\n",
    "        self.chocolate = chocolate\n",
    "                                             \n",
    "    def chocolatear(self):      \n",
    "        self.chocolate = True\n",
    "        \n",
    "    def __str__(self):  # el método string redefine la representación en forma de cadena de la instancia\n",
    "        if galleta.chocolate:\n",
    "            return \"Soy una galleta con chocolate\"\n",
    "        else:\n",
    "            return \"Soy una galleta sin chocolate\"\n",
    "        \n",
    "galleta = Galleta()\n",
    "print(galleta)  # ahora en lugar de mostrar la referencia a la memoria, mostramos nuestro propio contenido"
   ]
  },
  {
   "cell_type": "code",
   "execution_count": 86,
   "metadata": {},
   "outputs": [
    {
     "data": {
      "text/plain": [
       "'Soy una galleta sin chocolate'"
      ]
     },
     "execution_count": 86,
     "metadata": {},
     "output_type": "execute_result"
    }
   ],
   "source": [
    "galleta.__str__()  # sería como llamarlo de esta forma"
   ]
  },
  {
   "cell_type": "code",
   "execution_count": 80,
   "metadata": {},
   "outputs": [
    {
     "data": {
      "text/plain": [
       "'Soy una galleta sin chocolate'"
      ]
     },
     "execution_count": 80,
     "metadata": {},
     "output_type": "execute_result"
    }
   ],
   "source": [
    "str(galleta)  # pero como eso sería muy tedioso se utiliza la función general str()"
   ]
  },
  {
   "cell_type": "markdown",
   "metadata": {},
   "source": [
    "### 4.5 - Métodos de las colecciones"
   ]
  },
  {
   "cell_type": "code",
   "execution_count": 121,
   "metadata": {},
   "outputs": [
    {
     "data": {
      "text/plain": [
       "'HOLA MUNDO'"
      ]
     },
     "execution_count": 121,
     "metadata": {},
     "output_type": "execute_result"
    }
   ],
   "source": [
    "texto = \"Hola mundo\"\n",
    "texto.upper()"
   ]
  },
  {
   "cell_type": "code",
   "execution_count": 122,
   "metadata": {},
   "outputs": [
    {
     "data": {
      "text/plain": [
       "'hola mundo'"
      ]
     },
     "execution_count": 122,
     "metadata": {},
     "output_type": "execute_result"
    }
   ],
   "source": [
    "\"Hola mundo\".lower()"
   ]
  },
  {
   "cell_type": "code",
   "execution_count": 123,
   "metadata": {},
   "outputs": [
    {
     "data": {
      "text/plain": [
       "'Hola mundo'"
      ]
     },
     "execution_count": 123,
     "metadata": {},
     "output_type": "execute_result"
    }
   ],
   "source": [
    "\"Hola mundo\".capitalize()"
   ]
  },
  {
   "cell_type": "code",
   "execution_count": 124,
   "metadata": {},
   "outputs": [
    {
     "data": {
      "text/plain": [
       "'Hola Mundo'"
      ]
     },
     "execution_count": 124,
     "metadata": {},
     "output_type": "execute_result"
    }
   ],
   "source": [
    "\"Hola mundo\".title()"
   ]
  },
  {
   "cell_type": "code",
   "execution_count": 125,
   "metadata": {},
   "outputs": [
    {
     "data": {
      "text/plain": [
       "1"
      ]
     },
     "execution_count": 125,
     "metadata": {},
     "output_type": "execute_result"
    }
   ],
   "source": [
    "\"Hola mundo\".count('mundo')"
   ]
  },
  {
   "cell_type": "markdown",
   "metadata": {},
   "source": [
    "Para más ejemplos de métodos de las cadenas aquí tenéis [mis apuntes](https://github.com/hcosta/Python-3-al-completo-desde-cero/blob/master/Fase%203%20-%20Programacion%20Orientada%20a%20Objetos/Tema%2010%20-%20M%C3%A9todos%20de%20las%20colecciones/Lecci%C3%B3n%201%20%28Apuntes%29%20-%20Cadenas.ipynb)."
   ]
  },
  {
   "cell_type": "code",
   "execution_count": 92,
   "metadata": {},
   "outputs": [],
   "source": [
    "lista = [10, 20, 30, 40]"
   ]
  },
  {
   "cell_type": "code",
   "execution_count": 84,
   "metadata": {},
   "outputs": [
    {
     "data": {
      "text/plain": [
       "4"
      ]
     },
     "execution_count": 84,
     "metadata": {},
     "output_type": "execute_result"
    }
   ],
   "source": [
    "lista.__len__()  # las colecciones implementan sus propios métodos especiales como __len__ que dice el número de elementos"
   ]
  },
  {
   "cell_type": "code",
   "execution_count": 85,
   "metadata": {},
   "outputs": [
    {
     "data": {
      "text/plain": [
       "4"
      ]
     },
     "execution_count": 85,
     "metadata": {},
     "output_type": "execute_result"
    }
   ],
   "source": [
    "len(lista)  # como llamar al método especial es muy rudimentario se utiliza una función general  len"
   ]
  },
  {
   "cell_type": "code",
   "execution_count": 93,
   "metadata": {},
   "outputs": [],
   "source": [
    "lista.append(50) # el append añade un elemento al final de la lista"
   ]
  },
  {
   "cell_type": "code",
   "execution_count": 94,
   "metadata": {},
   "outputs": [
    {
     "data": {
      "text/plain": [
       "[10, 20, 30, 40, 50]"
      ]
     },
     "execution_count": 94,
     "metadata": {},
     "output_type": "execute_result"
    }
   ],
   "source": [
    "lista"
   ]
  },
  {
   "cell_type": "code",
   "execution_count": 95,
   "metadata": {},
   "outputs": [],
   "source": [
    "lista.remove(30)  # el remove busca un elemento y lo borra, si hay más de uno igual sólo borra el primero por la izquierda"
   ]
  },
  {
   "cell_type": "code",
   "execution_count": 96,
   "metadata": {},
   "outputs": [
    {
     "data": {
      "text/plain": [
       "[10, 20, 40, 50]"
      ]
     },
     "execution_count": 96,
     "metadata": {},
     "output_type": "execute_result"
    }
   ],
   "source": [
    "lista"
   ]
  },
  {
   "cell_type": "code",
   "execution_count": 98,
   "metadata": {},
   "outputs": [
    {
     "data": {
      "text/plain": [
       "2"
      ]
     },
     "execution_count": 98,
     "metadata": {},
     "output_type": "execute_result"
    }
   ],
   "source": [
    "lista.index(40)  # el index nos dice la posición donde se encuentra sin borrar nada"
   ]
  },
  {
   "cell_type": "code",
   "execution_count": 100,
   "metadata": {},
   "outputs": [
    {
     "data": {
      "text/plain": [
       "40"
      ]
     },
     "execution_count": 100,
     "metadata": {},
     "output_type": "execute_result"
    }
   ],
   "source": [
    "indice = lista.index(40)\n",
    "lista[indice]"
   ]
  },
  {
   "cell_type": "code",
   "execution_count": 101,
   "metadata": {},
   "outputs": [],
   "source": [
    "elemento = lista.pop(indice)  # el pop saca un elemento de la lista a partir de un índice"
   ]
  },
  {
   "cell_type": "code",
   "execution_count": 102,
   "metadata": {},
   "outputs": [
    {
     "data": {
      "text/plain": [
       "40"
      ]
     },
     "execution_count": 102,
     "metadata": {},
     "output_type": "execute_result"
    }
   ],
   "source": [
    "elemento"
   ]
  },
  {
   "cell_type": "code",
   "execution_count": 103,
   "metadata": {},
   "outputs": [
    {
     "data": {
      "text/plain": [
       "[10, 20, 50]"
      ]
     },
     "execution_count": 103,
     "metadata": {},
     "output_type": "execute_result"
    }
   ],
   "source": [
    "lista"
   ]
  },
  {
   "cell_type": "markdown",
   "metadata": {},
   "source": [
    "Para más ejemplos de métodos de las listas aquí tenéis [mis apuntes](https://github.com/hcosta/Python-3-al-completo-desde-cero/blob/master/Fase%203%20-%20Programacion%20Orientada%20a%20Objetos/Tema%2010%20-%20M%C3%A9todos%20de%20las%20colecciones/Lecci%C3%B3n%202%20(Apuntes)%20-%20Listas.ipynb)."
   ]
  },
  {
   "cell_type": "code",
   "execution_count": 126,
   "metadata": {},
   "outputs": [],
   "source": [
    "colores = { \"amarillo\":\"yellow\", \"azul\":\"blue\", \"verde\":\"green\" }"
   ]
  },
  {
   "cell_type": "code",
   "execution_count": 127,
   "metadata": {},
   "outputs": [
    {
     "data": {
      "text/plain": [
       "'no se encuentra'"
      ]
     },
     "execution_count": 127,
     "metadata": {},
     "output_type": "execute_result"
    }
   ],
   "source": [
    "colores.get('negro','no se encuentra')  # get obtiene un valor a partir de una clave y si no se encuentra devuelve un genérico "
   ]
  },
  {
   "cell_type": "code",
   "execution_count": 128,
   "metadata": {},
   "outputs": [
    {
     "data": {
      "text/plain": [
       "True"
      ]
     },
     "execution_count": 128,
     "metadata": {},
     "output_type": "execute_result"
    }
   ],
   "source": [
    "'amarillo' in colores"
   ]
  },
  {
   "cell_type": "code",
   "execution_count": 136,
   "metadata": {},
   "outputs": [
    {
     "data": {
      "text/plain": [
       "dict_values(['yellow', 'blue', 'green'])"
      ]
     },
     "execution_count": 136,
     "metadata": {},
     "output_type": "execute_result"
    }
   ],
   "source": [
    "colores.values()  # devuelve los valores"
   ]
  },
  {
   "cell_type": "code",
   "execution_count": 137,
   "metadata": {},
   "outputs": [
    {
     "name": "stdout",
     "output_type": "stream",
     "text": [
      "yellow\n",
      "blue\n",
      "green\n"
     ]
    }
   ],
   "source": [
    "for valor in colores.values():\n",
    "    print(valor)"
   ]
  },
  {
   "cell_type": "code",
   "execution_count": 129,
   "metadata": {},
   "outputs": [
    {
     "data": {
      "text/plain": [
       "dict_keys(['amarillo', 'azul', 'verde'])"
      ]
     },
     "execution_count": 129,
     "metadata": {},
     "output_type": "execute_result"
    }
   ],
   "source": [
    "colores.keys() # devuelve las claves"
   ]
  },
  {
   "cell_type": "code",
   "execution_count": 132,
   "metadata": {},
   "outputs": [
    {
     "name": "stdout",
     "output_type": "stream",
     "text": [
      "amarillo -> yellow\n",
      "azul -> blue\n",
      "verde -> green\n"
     ]
    }
   ],
   "source": [
    "for clave in colores.keys():\n",
    "    print(clave, '->', colores[clave])"
   ]
  },
  {
   "cell_type": "code",
   "execution_count": 133,
   "metadata": {},
   "outputs": [
    {
     "data": {
      "text/plain": [
       "dict_items([('amarillo', 'yellow'), ('azul', 'blue'), ('verde', 'green')])"
      ]
     },
     "execution_count": 133,
     "metadata": {},
     "output_type": "execute_result"
    }
   ],
   "source": [
    "colores.items() # devuelve los items, tuplas con la clave y el valor"
   ]
  },
  {
   "cell_type": "code",
   "execution_count": 134,
   "metadata": {},
   "outputs": [
    {
     "name": "stdout",
     "output_type": "stream",
     "text": [
      "amarillo -> yellow\n",
      "azul -> blue\n",
      "verde -> green\n"
     ]
    }
   ],
   "source": [
    "for clave, valor in colores.items():\n",
    "    print(clave, '->', valor)"
   ]
  },
  {
   "cell_type": "code",
   "execution_count": 138,
   "metadata": {},
   "outputs": [],
   "source": [
    "colores.clear()  # limpia el diccionario"
   ]
  },
  {
   "cell_type": "code",
   "execution_count": 139,
   "metadata": {},
   "outputs": [
    {
     "data": {
      "text/plain": [
       "{}"
      ]
     },
     "execution_count": 139,
     "metadata": {},
     "output_type": "execute_result"
    }
   ],
   "source": [
    "colores"
   ]
  },
  {
   "cell_type": "markdown",
   "metadata": {},
   "source": [
    "### 4.6 - Herencia de clases"
   ]
  },
  {
   "cell_type": "code",
   "execution_count": 144,
   "metadata": {},
   "outputs": [],
   "source": [
    "class Padre:\n",
    "    def __init__(self):\n",
    "        print(\"Soy el padre\")\n",
    "        \n",
    "    def metodo_padre(self):\n",
    "        print(\"Tengo este método padre\")\n",
    "        \n",
    "class Hijo(Padre):\n",
    "    def __init__(self):\n",
    "        print(\"Soy el hijo\")"
   ]
  },
  {
   "cell_type": "code",
   "execution_count": 145,
   "metadata": {},
   "outputs": [
    {
     "name": "stdout",
     "output_type": "stream",
     "text": [
      "Soy el hijo\n"
     ]
    }
   ],
   "source": [
    "hijo = Hijo()  # el hijo hereda el constructor del padre pero lo sobreescribe"
   ]
  },
  {
   "cell_type": "code",
   "execution_count": 146,
   "metadata": {},
   "outputs": [
    {
     "name": "stdout",
     "output_type": "stream",
     "text": [
      "Tengo este método padre\n"
     ]
    }
   ],
   "source": [
    "hijo.metodo_padre()  # el hijo hereda el método del padre"
   ]
  },
  {
   "cell_type": "code",
   "execution_count": 147,
   "metadata": {},
   "outputs": [],
   "source": [
    "class Madre:\n",
    "    def __init__(self):\n",
    "        print(\"Soy la madre\")\n",
    "        \n",
    "    def metodo_madre(self):\n",
    "        print(\"Tengo este método madre\")\n",
    "        \n",
    "class Hijo(Madre, Padre):\n",
    "    def __init__(self):\n",
    "        print(\"Soy el hijo\")"
   ]
  },
  {
   "cell_type": "code",
   "execution_count": 148,
   "metadata": {},
   "outputs": [
    {
     "name": "stdout",
     "output_type": "stream",
     "text": [
      "Soy el hijo\n"
     ]
    }
   ],
   "source": [
    "hijo = Hijo()"
   ]
  },
  {
   "cell_type": "code",
   "execution_count": 149,
   "metadata": {},
   "outputs": [
    {
     "name": "stdout",
     "output_type": "stream",
     "text": [
      "Tengo este método padre\n"
     ]
    }
   ],
   "source": [
    "hijo.metodo_padre()"
   ]
  },
  {
   "cell_type": "code",
   "execution_count": 150,
   "metadata": {},
   "outputs": [
    {
     "name": "stdout",
     "output_type": "stream",
     "text": [
      "Tengo este método madre\n"
     ]
    }
   ],
   "source": [
    "hijo.metodo_madre()"
   ]
  },
  {
   "cell_type": "code",
   "execution_count": 157,
   "metadata": {},
   "outputs": [],
   "source": [
    "class Madre:\n",
    "    def __init__(self):\n",
    "        print(\"Soy la madre\")\n",
    "        \n",
    "    def metodo_madre(self):\n",
    "        print(\"Tengo este método madre\")\n",
    "        \n",
    "    def metodo_comun(self):\n",
    "        print(\"La madre manda\")\n",
    "\n",
    "class Padre:\n",
    "    def __init__(self):\n",
    "        print(\"Soy el padre\")\n",
    "        \n",
    "    def metodo_padre(self):\n",
    "        print(\"Tengo este método padre\")\n",
    "        \n",
    "    def metodo_comun(self):\n",
    "        print(\"El padre manda\")\n",
    "        \n",
    "class Hijo(Madre, Padre):\n",
    "    def __init__(self):\n",
    "        print(\"Soy el hijo\")"
   ]
  },
  {
   "cell_type": "code",
   "execution_count": 158,
   "metadata": {},
   "outputs": [
    {
     "name": "stdout",
     "output_type": "stream",
     "text": [
      "Soy el hijo\n"
     ]
    }
   ],
   "source": [
    "hijo = Hijo()"
   ]
  },
  {
   "cell_type": "code",
   "execution_count": 159,
   "metadata": {},
   "outputs": [
    {
     "name": "stdout",
     "output_type": "stream",
     "text": [
      "La madre manda\n"
     ]
    }
   ],
   "source": [
    "hijo.metodo_comun()  # quien mandra, siempre la madre"
   ]
  },
  {
   "cell_type": "code",
   "execution_count": 167,
   "metadata": {},
   "outputs": [],
   "source": [
    "class Hijo(Padre, Madre):  # aunque es verdad, en realidad siempre tienen prioridad las clases más a la izquierda\n",
    "    def __init__(self):\n",
    "        print(\"Soy el hijo\")"
   ]
  },
  {
   "cell_type": "code",
   "execution_count": 168,
   "metadata": {},
   "outputs": [
    {
     "name": "stdout",
     "output_type": "stream",
     "text": [
      "Soy el hijo\n"
     ]
    }
   ],
   "source": [
    "hijo = Hijo()"
   ]
  },
  {
   "cell_type": "code",
   "execution_count": 169,
   "metadata": {},
   "outputs": [
    {
     "name": "stdout",
     "output_type": "stream",
     "text": [
      "El padre manda\n"
     ]
    }
   ],
   "source": [
    "hijo.metodo_comun()"
   ]
  },
  {
   "cell_type": "markdown",
   "metadata": {},
   "source": [
    "### 4.7 - Polimorfismo"
   ]
  },
  {
   "cell_type": "markdown",
   "metadata": {},
   "source": [
    "Es una propiedad de la herencia por la que objetos de distintas subclases pueden responder a una misma acción. En Python todo son objetos, y todas sus clases heredan de la superclase object, por tanto todos los objetos pueden responder a todas las acciones, no hay límites."
   ]
  },
  {
   "cell_type": "code",
   "execution_count": 180,
   "metadata": {},
   "outputs": [],
   "source": [
    "class Persona(object):  # esto es implícito\n",
    "    \n",
    "    def __init__(self, nombre):\n",
    "        self.nombre = nombre\n",
    "        \n",
    "    def saludar(self):\n",
    "        print(\"Buenos días me llamo\", self.nombre)"
   ]
  },
  {
   "cell_type": "code",
   "execution_count": 181,
   "metadata": {},
   "outputs": [],
   "source": [
    "pepe = Persona(\"Pepe\")"
   ]
  },
  {
   "cell_type": "code",
   "execution_count": 182,
   "metadata": {},
   "outputs": [],
   "source": [
    "def funcion(obj):\n",
    "    print(\"Supuestamente este objeto tiene el método saludar\")\n",
    "    obj.saludar()"
   ]
  },
  {
   "cell_type": "code",
   "execution_count": 184,
   "metadata": {},
   "outputs": [
    {
     "name": "stdout",
     "output_type": "stream",
     "text": [
      "Supuestamente este objeto tiene el método saludar\n",
      "Buenos días me llamo Pepe\n"
     ]
    }
   ],
   "source": [
    "funcion(pepe)"
   ]
  },
  {
   "cell_type": "markdown",
   "metadata": {},
   "source": [
    "El problema implícito del polimorfismo en Python es que como todo es hijo de object, somos nosotros los programadores quienes tenemos que controlarlo."
   ]
  },
  {
   "cell_type": "code",
   "execution_count": 185,
   "metadata": {},
   "outputs": [],
   "source": [
    "class Piedra(object):\n",
    "    pass"
   ]
  },
  {
   "cell_type": "code",
   "execution_count": 186,
   "metadata": {},
   "outputs": [],
   "source": [
    "piedra = Piedra()"
   ]
  },
  {
   "cell_type": "code",
   "execution_count": 188,
   "metadata": {},
   "outputs": [
    {
     "name": "stdout",
     "output_type": "stream",
     "text": [
      "Supuestamente este objeto tiene el método saludar\n"
     ]
    },
    {
     "ename": "AttributeError",
     "evalue": "'Piedra' object has no attribute 'saludar'",
     "output_type": "error",
     "traceback": [
      "\u001b[1;31m---------------------------------------------------------------------------\u001b[0m",
      "\u001b[1;31mAttributeError\u001b[0m                            Traceback (most recent call last)",
      "\u001b[1;32m<ipython-input-188-d129c098ad94>\u001b[0m in \u001b[0;36m<module>\u001b[1;34m()\u001b[0m\n\u001b[1;32m----> 1\u001b[1;33m \u001b[0mfuncion\u001b[0m\u001b[1;33m(\u001b[0m\u001b[0mpiedra\u001b[0m\u001b[1;33m)\u001b[0m  \u001b[1;31m# como va a saludarnos una piedra x'D\u001b[0m\u001b[1;33m\u001b[0m\u001b[0m\n\u001b[0m",
      "\u001b[1;32m<ipython-input-182-9c33dfbe4be6>\u001b[0m in \u001b[0;36mfuncion\u001b[1;34m(obj)\u001b[0m\n\u001b[0;32m      1\u001b[0m \u001b[1;32mdef\u001b[0m \u001b[0mfuncion\u001b[0m\u001b[1;33m(\u001b[0m\u001b[0mobj\u001b[0m\u001b[1;33m)\u001b[0m\u001b[1;33m:\u001b[0m\u001b[1;33m\u001b[0m\u001b[0m\n\u001b[0;32m      2\u001b[0m     \u001b[0mprint\u001b[0m\u001b[1;33m(\u001b[0m\u001b[1;34m\"Supuestamente este objeto tiene el método saludar\"\u001b[0m\u001b[1;33m)\u001b[0m\u001b[1;33m\u001b[0m\u001b[0m\n\u001b[1;32m----> 3\u001b[1;33m     \u001b[0mobj\u001b[0m\u001b[1;33m.\u001b[0m\u001b[0msaludar\u001b[0m\u001b[1;33m(\u001b[0m\u001b[1;33m)\u001b[0m\u001b[1;33m\u001b[0m\u001b[0m\n\u001b[0m",
      "\u001b[1;31mAttributeError\u001b[0m: 'Piedra' object has no attribute 'saludar'"
     ]
    }
   ],
   "source": [
    "funcion(piedra)  # como va a saludarnos una piedra x'D"
   ]
  },
  {
   "cell_type": "code",
   "execution_count": 193,
   "metadata": {},
   "outputs": [],
   "source": [
    "def funcion(obj):\n",
    "    if hasattr(obj, 'saludar'):  # la función hasattr permite comprobar si un objeto tiene un atributo o método\n",
    "        obj.saludar()\n",
    "    else:\n",
    "        print(\"Este objeto no puede saludar()\")"
   ]
  },
  {
   "cell_type": "code",
   "execution_count": 194,
   "metadata": {},
   "outputs": [
    {
     "name": "stdout",
     "output_type": "stream",
     "text": [
      "Buenos días me llamo Pepe\n"
     ]
    }
   ],
   "source": [
    "funcion(pepe)"
   ]
  },
  {
   "cell_type": "code",
   "execution_count": 195,
   "metadata": {},
   "outputs": [
    {
     "name": "stdout",
     "output_type": "stream",
     "text": [
      "Este objeto no puede saludar()\n"
     ]
    }
   ],
   "source": [
    "funcion(piedra)"
   ]
  }
 ],
 "metadata": {
  "kernelspec": {
   "display_name": "Python 3",
   "language": "python",
   "name": "python3"
  },
  "language_info": {
   "codemirror_mode": {
    "name": "ipython",
    "version": 3
   },
   "file_extension": ".py",
   "mimetype": "text/x-python",
   "name": "python",
   "nbconvert_exporter": "python",
   "pygments_lexer": "ipython3",
   "version": "3.6.3"
  }
 },
 "nbformat": 4,
 "nbformat_minor": 2
}
